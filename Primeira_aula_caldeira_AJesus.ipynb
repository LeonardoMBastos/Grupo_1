{
  "nbformat": 4,
  "nbformat_minor": 0,
  "metadata": {
    "colab": {
      "provenance": [],
      "include_colab_link": true
    },
    "kernelspec": {
      "name": "python3",
      "display_name": "Python 3"
    },
    "language_info": {
      "name": "python"
    }
  },
  "cells": [
    {
      "cell_type": "markdown",
      "metadata": {
        "id": "view-in-github",
        "colab_type": "text"
      },
      "source": [
        "<a href=\"https://colab.research.google.com/github/LeonardoMBastos/Grupo_1/blob/main/Primeira_aula_caldeira_AJesus.ipynb\" target=\"_parent\"><img src=\"https://colab.research.google.com/assets/colab-badge.svg\" alt=\"Open In Colab\"/></a>"
      ]
    },
    {
      "cell_type": "code",
      "execution_count": null,
      "metadata": {
        "id": "bQQ_ETClFXD-",
        "colab": {
          "base_uri": "https://localhost:8080/"
        },
        "outputId": "d7e280f1-3375-4fc3-fce7-df1349f4c25e"
      },
      "outputs": [
        {
          "output_type": "stream",
          "name": "stdout",
          "text": [
            "AHHHHHHHHHHHHHH\n"
          ]
        }
      ],
      "source": [
        "print(\"AHHHHHHHHHHHHHH\")"
      ]
    },
    {
      "cell_type": "code",
      "source": [
        "print(9-2)\n",
        "\n",
        "print(2+2)"
      ],
      "metadata": {
        "colab": {
          "base_uri": "https://localhost:8080/"
        },
        "id": "zW6qu7lIMae0",
        "outputId": "e71e48b5-21c3-494b-b61f-51499399f346"
      },
      "execution_count": null,
      "outputs": [
        {
          "output_type": "stream",
          "name": "stdout",
          "text": [
            "7\n",
            "4\n"
          ]
        }
      ]
    },
    {
      "cell_type": "code",
      "source": [
        "130 * (1.1) ** 3"
      ],
      "metadata": {
        "colab": {
          "base_uri": "https://localhost:8080/"
        },
        "id": "kp8ea865Mk5H",
        "outputId": "72686473-2737-4b12-aa8c-dfa59d7da277"
      },
      "execution_count": null,
      "outputs": [
        {
          "output_type": "execute_result",
          "data": {
            "text/plain": [
              "173.03000000000006"
            ]
          },
          "metadata": {},
          "execution_count": 3
        }
      ]
    },
    {
      "cell_type": "code",
      "source": [
        "#calcular valor futuro\n",
        "\n",
        "pv = 100\n",
        "i = 0.05\n",
        "t = 3\n",
        "\n",
        "#setar fórmula\n",
        "\n",
        "fv = pv * (1+i) ** t\n",
        "print(fv)"
      ],
      "metadata": {
        "colab": {
          "base_uri": "https://localhost:8080/"
        },
        "id": "dWxSvndYNeVC",
        "outputId": "bb8d232a-6093-4a1c-bbb1-6d9108d6a303"
      },
      "execution_count": null,
      "outputs": [
        {
          "output_type": "stream",
          "name": "stdout",
          "text": [
            "115.76250000000002\n"
          ]
        }
      ]
    },
    {
      "cell_type": "code",
      "source": [
        "#cálculo de imc\n",
        "alt = 1.67\n",
        "ps = 70\n",
        "\n",
        "#fórmula imc\n",
        "\n",
        "IMC = ps / (alt) ** 2\n",
        "print(IMC)"
      ],
      "metadata": {
        "colab": {
          "base_uri": "https://localhost:8080/"
        },
        "id": "P1HK3rDvO_9Z",
        "outputId": "b0add3b3-190c-4792-b2c3-33e92403a193"
      },
      "execution_count": null,
      "outputs": [
        {
          "output_type": "stream",
          "name": "stdout",
          "text": [
            "25.099501595611173\n"
          ]
        }
      ]
    },
    {
      "cell_type": "code",
      "source": [
        "a = 8\n",
        "b = 4\n",
        "\n",
        "print(a < b)"
      ],
      "metadata": {
        "id": "izhGDNG-VHsZ",
        "outputId": "cfed9b57-d5f1-41fa-f519-122a7ffac4c0",
        "colab": {
          "base_uri": "https://localhost:8080/"
        }
      },
      "execution_count": null,
      "outputs": [
        {
          "output_type": "stream",
          "name": "stdout",
          "text": [
            "False\n"
          ]
        }
      ]
    },
    {
      "cell_type": "code",
      "source": [
        "nome = 'Leonardo'"
      ],
      "metadata": {
        "id": "dygMPGCZP2U2"
      },
      "execution_count": null,
      "outputs": []
    },
    {
      "cell_type": "code",
      "source": [
        "#variáveis\n",
        "nome = \"leonardo\"\n",
        "t = 3\n",
        "fv = 115\n",
        "\n",
        "print(\"Eu, {}, pagarei daqui a {} meses a quantia de {} reais!\".format(nome,t,fv))"
      ],
      "metadata": {
        "id": "8EEOnW_iVZXe",
        "outputId": "9a5c5304-f721-40bc-dc23-fdd606ef0e52",
        "colab": {
          "base_uri": "https://localhost:8080/"
        }
      },
      "execution_count": null,
      "outputs": [
        {
          "output_type": "stream",
          "name": "stdout",
          "text": [
            "Eu, leonardo, pagarei daqui a 3 meses a quantia de 115 reais!\n"
          ]
        }
      ]
    },
    {
      "cell_type": "code",
      "source": [
        "temperatura = 20\n",
        "\n",
        "if temperatura > 30:\n",
        "  print('tá quente paporra')\n",
        "elif temperatura < 0:\n",
        "  print('tá frio')\n",
        "else:\n",
        "  print('tá de boa')"
      ],
      "metadata": {
        "id": "k-pv4cXGVucq",
        "outputId": "7a07fdd7-8214-4e94-d63c-594caef0aeb6",
        "colab": {
          "base_uri": "https://localhost:8080/"
        }
      },
      "execution_count": null,
      "outputs": [
        {
          "output_type": "stream",
          "name": "stdout",
          "text": [
            "tá de boa\n"
          ]
        }
      ]
    },
    {
      "cell_type": "code",
      "source": [
        "nota = 8.2\n",
        "if nota >= 9:\n",
        "  print('Aprovado com conceito A')\n",
        "elif nota >= 8:\n",
        "  print('Aprovado com conceito B')\n",
        "elif nota >= 7:\n",
        "  print('Aprovado com conceito C')\n",
        "else:\n",
        "  print('Reprovado')"
      ],
      "metadata": {
        "id": "SOKN6g7tdqeT",
        "outputId": "50fa6b13-7dde-4f31-9122-b888811daab4",
        "colab": {
          "base_uri": "https://localhost:8080/"
        }
      },
      "execution_count": null,
      "outputs": [
        {
          "output_type": "stream",
          "name": "stdout",
          "text": [
            "Aprovado com conceito B\n"
          ]
        }
      ]
    },
    {
      "cell_type": "code",
      "source": [
        "leo = 23\n",
        "ana = 24\n",
        "bruno = 26\n",
        "leticia = 22\n",
        "arthur = 28\n",
        "idades = [leo,ana,bruno,leticia,arthur]\n",
        "print(idades)"
      ],
      "metadata": {
        "id": "vLMftCDEephM",
        "outputId": "34e40335-c984-4ab5-bcda-f02ded0fd753",
        "colab": {
          "base_uri": "https://localhost:8080/"
        }
      },
      "execution_count": null,
      "outputs": [
        {
          "output_type": "stream",
          "name": "stdout",
          "text": [
            "[23, 24, 26, 22, 28]\n"
          ]
        }
      ]
    },
    {
      "cell_type": "code",
      "source": [
        "lista_total = ['leo', leo, 'ana', ana, 'bruno', bruno,'leticia',leticia,'arthur',arthur]\n",
        "print(lista_total)"
      ],
      "metadata": {
        "id": "WwfPjpGZhBXB",
        "outputId": "206eefa3-5e14-4065-bcaa-0beaddd70052",
        "colab": {
          "base_uri": "https://localhost:8080/"
        }
      },
      "execution_count": null,
      "outputs": [
        {
          "output_type": "stream",
          "name": "stdout",
          "text": [
            "['leo', 23, 'ana', 24, 'bruno', 26, 'leticia', 22, 'arthur', 28]\n"
          ]
        }
      ]
    },
    {
      "cell_type": "code",
      "source": [
        "#selecionando elementos das lista\n",
        "print(lista_total[2:4])\n",
        "print(lista_total[2:])\n",
        "print(lista_total[:4])\n",
        "print(lista_total[:])\n",
        "#para puxar elementos do fim da lista:\n",
        "print(lista_total[-1])\n",
        "print(lista_total[-2])"
      ],
      "metadata": {
        "id": "wiC-PbG1hZKl",
        "outputId": "7b2f6fb1-5cb8-497d-9f35-878cf873422a",
        "colab": {
          "base_uri": "https://localhost:8080/"
        }
      },
      "execution_count": null,
      "outputs": [
        {
          "output_type": "stream",
          "name": "stdout",
          "text": [
            "['ana', 24]\n",
            "['ana', 24, 'bruno', 26, 'leticia', 22, 'arthur', 28]\n",
            "['leo', 23, 'ana', 24]\n",
            "['leo', 23, 'ana', 24, 'bruno', 26, 'leticia', 22, 'arthur', 28]\n",
            "28\n",
            "arthur\n"
          ]
        }
      ]
    },
    {
      "cell_type": "code",
      "source": [
        "#inserindo elemento na lista\n",
        "idades.insert(1,19)\n",
        "print(idades)"
      ],
      "metadata": {
        "id": "gL5jtoseh1X2",
        "outputId": "825fd563-843f-4602-a75c-875a94adcd65",
        "colab": {
          "base_uri": "https://localhost:8080/"
        }
      },
      "execution_count": null,
      "outputs": [
        {
          "output_type": "stream",
          "name": "stdout",
          "text": [
            "[23, 19, 24, 26, 22, 28]\n"
          ]
        }
      ]
    },
    {
      "cell_type": "code",
      "source": [
        "q_seguranca = 20\n",
        "s_seguranca = 2000\n",
        "\n",
        "q_diretoria = 5\n",
        "s_diretoria = 6000\n",
        "\n",
        "custo = s_seguranca * q_seguranca + q_diretoria * s_diretoria\n",
        "\n",
        "print(custo)"
      ],
      "metadata": {
        "id": "74czoHN4jwr0",
        "colab": {
          "base_uri": "https://localhost:8080/"
        },
        "outputId": "aad234f2-73a8-4ace-da9d-753481bc119e"
      },
      "execution_count": 37,
      "outputs": [
        {
          "output_type": "stream",
          "name": "stdout",
          "text": [
            "70000\n"
          ]
        }
      ]
    },
    {
      "cell_type": "code",
      "source": [
        "texto = '  Alisson Becker '"
      ],
      "metadata": {
        "id": "9Z_RYQ0Yy9Iv"
      },
      "execution_count": 38,
      "outputs": []
    },
    {
      "cell_type": "code",
      "source": [
        "print(texto)"
      ],
      "metadata": {
        "colab": {
          "base_uri": "https://localhost:8080/"
        },
        "id": "gGNpG2ApzfI1",
        "outputId": "ff2f8d12-1c15-47d1-a742-5479a9b33421"
      },
      "execution_count": 39,
      "outputs": [
        {
          "output_type": "stream",
          "name": "stdout",
          "text": [
            "  Alisson Becker \n"
          ]
        }
      ]
    },
    {
      "cell_type": "code",
      "source": [
        "texto.upper()\n"
      ],
      "metadata": {
        "colab": {
          "base_uri": "https://localhost:8080/",
          "height": 36
        },
        "id": "ssP4MDltzppU",
        "outputId": "f3720f3d-7924-4028-e8e0-d15bcc8fed06"
      },
      "execution_count": 42,
      "outputs": [
        {
          "output_type": "execute_result",
          "data": {
            "text/plain": [
              "'  ALISSON BECKER '"
            ],
            "application/vnd.google.colaboratory.intrinsic+json": {
              "type": "string"
            }
          },
          "metadata": {},
          "execution_count": 42
        }
      ]
    },
    {
      "cell_type": "code",
      "source": [
        "texto.lower()"
      ],
      "metadata": {
        "colab": {
          "base_uri": "https://localhost:8080/",
          "height": 36
        },
        "id": "oq0s4qoUz2Gt",
        "outputId": "e35e7e6d-990a-4289-b1b3-e2ed9ae4a211"
      },
      "execution_count": 43,
      "outputs": [
        {
          "output_type": "execute_result",
          "data": {
            "text/plain": [
              "'  alisson becker '"
            ],
            "application/vnd.google.colaboratory.intrinsic+json": {
              "type": "string"
            }
          },
          "metadata": {},
          "execution_count": 43
        }
      ]
    },
    {
      "cell_type": "code",
      "source": [
        "texto.strip()"
      ],
      "metadata": {
        "colab": {
          "base_uri": "https://localhost:8080/",
          "height": 36
        },
        "id": "Mjd0czak0D7H",
        "outputId": "18d7808f-ad3e-44bd-98fe-685575907d4b"
      },
      "execution_count": 45,
      "outputs": [
        {
          "output_type": "execute_result",
          "data": {
            "text/plain": [
              "'Alisson Becker'"
            ],
            "application/vnd.google.colaboratory.intrinsic+json": {
              "type": "string"
            }
          },
          "metadata": {},
          "execution_count": 45
        }
      ]
    },
    {
      "cell_type": "code",
      "source": [
        "texto.replace('n','u')"
      ],
      "metadata": {
        "colab": {
          "base_uri": "https://localhost:8080/",
          "height": 36
        },
        "id": "vFUV8Mxj0INL",
        "outputId": "341938d1-723a-439a-d2ff-224d893f259c"
      },
      "execution_count": 47,
      "outputs": [
        {
          "output_type": "execute_result",
          "data": {
            "text/plain": [
              "'  Alissou Becker '"
            ],
            "application/vnd.google.colaboratory.intrinsic+json": {
              "type": "string"
            }
          },
          "metadata": {},
          "execution_count": 47
        }
      ]
    },
    {
      "cell_type": "code",
      "source": [
        "nome = input(' Escreva o seu nome: ')\n",
        "if nome: 'Leonardo'\n",
        "print('KKotário')"
      ],
      "metadata": {
        "colab": {
          "base_uri": "https://localhost:8080/",
          "height": 106
        },
        "id": "Jc-VjxVm0X3u",
        "outputId": "bf30912b-d30a-4cf5-da0e-b96c2300df24"
      },
      "execution_count": 56,
      "outputs": [
        {
          "output_type": "error",
          "ename": "SyntaxError",
          "evalue": "invalid syntax (<ipython-input-56-8381ec090d9f>, line 4)",
          "traceback": [
            "\u001b[0;36m  File \u001b[0;32m\"<ipython-input-56-8381ec090d9f>\"\u001b[0;36m, line \u001b[0;32m4\u001b[0m\n\u001b[0;31m    elif nome not 'Leonardo'\u001b[0m\n\u001b[0m    ^\u001b[0m\n\u001b[0;31mSyntaxError\u001b[0m\u001b[0;31m:\u001b[0m invalid syntax\n"
          ]
        }
      ]
    },
    {
      "cell_type": "code",
      "source": [
        "Nome_do_aluno = \"Leonardo\"\n",
        "Idade_do_aluno = 23\n",
        "Ano_de_ingresso = 2019\n",
        "\n",
        "print('Nome: {}, Idade: {}, Ano de ingresso: {}'.format(Nome_do_aluno,Idade_do_aluno,Ano_de_ingresso))"
      ],
      "metadata": {
        "colab": {
          "base_uri": "https://localhost:8080/"
        },
        "id": "a4kQDGDs1Dbs",
        "outputId": "af8e5442-4a37-4d8d-f6f3-f7fc4bebc748"
      },
      "execution_count": 57,
      "outputs": [
        {
          "output_type": "stream",
          "name": "stdout",
          "text": [
            "Nome: Leonardo, Idade: 23, Ano de ingresso: 2019\n"
          ]
        }
      ]
    },
    {
      "cell_type": "code",
      "source": [
        "nome = input(' Escreva o seu nome: ')\n",
        "idade = input(' Informe a sua idade: ')\n",
        "altura = input(' Informe a sua altura: ')\n",
        "print('Olá, {}. Você tem {} anos e {} de altura. '.format(nome,idade,altura))\n",
        "confirmacao = input('Correto?')\n",
        "if confirmacao == 'sim':\n",
        "    print('ok')\n",
        "elif confirmacao == 'não' or 'Não':\n",
        "    print('Digite abaixo a informação errada')\n",
        "    erro = input(' Informação incorreta: ')"
      ],
      "metadata": {
        "colab": {
          "base_uri": "https://localhost:8080/"
        },
        "id": "oW2fRY2129OM",
        "outputId": "a01b8fb5-254b-4717-ac0d-89c1f82c01c4"
      },
      "execution_count": 64,
      "outputs": [
        {
          "name": "stdout",
          "output_type": "stream",
          "text": [
            " Escreva o seu nome: Leonardo\n",
            " Informe a sua idade: 23\n",
            " Informe a sua altura: 1.67\n",
            "Olá, Leonardo. Você tem 23 anos e 1.67 de altura. \n",
            "Correto?Não\n",
            "Digite abaixo a informação errada\n",
            " Informação incorreta: Altura\n"
          ]
        }
      ]
    },
    {
      "cell_type": "code",
      "source": [],
      "metadata": {
        "id": "kD_NzrNn4Zzh"
      },
      "execution_count": null,
      "outputs": []
    }
  ]
}