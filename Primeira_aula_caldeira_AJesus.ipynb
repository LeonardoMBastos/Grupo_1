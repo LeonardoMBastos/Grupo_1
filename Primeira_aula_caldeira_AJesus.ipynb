{
  "nbformat": 4,
  "nbformat_minor": 0,
  "metadata": {
    "colab": {
      "provenance": [],
      "include_colab_link": true
    },
    "kernelspec": {
      "name": "python3",
      "display_name": "Python 3"
    },
    "language_info": {
      "name": "python"
    }
  },
  "cells": [
    {
      "cell_type": "markdown",
      "metadata": {
        "id": "view-in-github",
        "colab_type": "text"
      },
      "source": [
        "<a href=\"https://colab.research.google.com/github/LeonardoMBastos/Grupo_1/blob/main/Primeira_aula_caldeira_AJesus.ipynb\" target=\"_parent\"><img src=\"https://colab.research.google.com/assets/colab-badge.svg\" alt=\"Open In Colab\"/></a>"
      ]
    },
    {
      "cell_type": "code",
      "execution_count": 1,
      "metadata": {
        "id": "bQQ_ETClFXD-",
        "colab": {
          "base_uri": "https://localhost:8080/"
        },
        "outputId": "d7e280f1-3375-4fc3-fce7-df1349f4c25e"
      },
      "outputs": [
        {
          "output_type": "stream",
          "name": "stdout",
          "text": [
            "AHHHHHHHHHHHHHH\n"
          ]
        }
      ],
      "source": [
        "print(\"AHHHHHHHHHHHHHH\")"
      ]
    },
    {
      "cell_type": "code",
      "source": [
        "print(9-2)\n",
        "\n",
        "print(2+2)"
      ],
      "metadata": {
        "colab": {
          "base_uri": "https://localhost:8080/"
        },
        "id": "zW6qu7lIMae0",
        "outputId": "e71e48b5-21c3-494b-b61f-51499399f346"
      },
      "execution_count": 2,
      "outputs": [
        {
          "output_type": "stream",
          "name": "stdout",
          "text": [
            "7\n",
            "4\n"
          ]
        }
      ]
    },
    {
      "cell_type": "code",
      "source": [
        "130 * (1.1) ** 3"
      ],
      "metadata": {
        "colab": {
          "base_uri": "https://localhost:8080/"
        },
        "id": "kp8ea865Mk5H",
        "outputId": "72686473-2737-4b12-aa8c-dfa59d7da277"
      },
      "execution_count": 3,
      "outputs": [
        {
          "output_type": "execute_result",
          "data": {
            "text/plain": [
              "173.03000000000006"
            ]
          },
          "metadata": {},
          "execution_count": 3
        }
      ]
    },
    {
      "cell_type": "code",
      "source": [
        "#calcular valor futuro\n",
        "\n",
        "pv = 100\n",
        "i = 0.05\n",
        "t = 3\n",
        "\n",
        "#setar fórmula\n",
        "\n",
        "fv = pv * (1+i) ** t\n",
        "print(fv)"
      ],
      "metadata": {
        "colab": {
          "base_uri": "https://localhost:8080/"
        },
        "id": "dWxSvndYNeVC",
        "outputId": "bb8d232a-6093-4a1c-bbb1-6d9108d6a303"
      },
      "execution_count": 4,
      "outputs": [
        {
          "output_type": "stream",
          "name": "stdout",
          "text": [
            "115.76250000000002\n"
          ]
        }
      ]
    },
    {
      "cell_type": "code",
      "source": [
        "#cálculo de imc\n",
        "alt = 1.67\n",
        "ps = 70\n",
        "\n",
        "#fórmula imc\n",
        "\n",
        "IMC = ps / (alt) ** 2\n",
        "print(IMC)"
      ],
      "metadata": {
        "colab": {
          "base_uri": "https://localhost:8080/"
        },
        "id": "P1HK3rDvO_9Z",
        "outputId": "b0add3b3-190c-4792-b2c3-33e92403a193"
      },
      "execution_count": 6,
      "outputs": [
        {
          "output_type": "stream",
          "name": "stdout",
          "text": [
            "25.099501595611173\n"
          ]
        }
      ]
    },
    {
      "cell_type": "code",
      "source": [
        "a = 8\n",
        "b = 4\n",
        "\n",
        "print(a < b)"
      ],
      "metadata": {
        "id": "izhGDNG-VHsZ",
        "outputId": "cfed9b57-d5f1-41fa-f519-122a7ffac4c0",
        "colab": {
          "base_uri": "https://localhost:8080/"
        }
      },
      "execution_count": 7,
      "outputs": [
        {
          "output_type": "stream",
          "name": "stdout",
          "text": [
            "False\n"
          ]
        }
      ]
    },
    {
      "cell_type": "code",
      "source": [
        "nome = 'Leonardo'"
      ],
      "metadata": {
        "id": "dygMPGCZP2U2"
      },
      "execution_count": 9,
      "outputs": []
    },
    {
      "cell_type": "code",
      "source": [
        "#variáveis\n",
        "nome = \"leonardo\"\n",
        "t = 3\n",
        "fv = 115\n",
        "\n",
        "print(\"Eu, {}, pagarei daqui a {} meses a quantia de {} reais!\".format(nome,t,fv))"
      ],
      "metadata": {
        "id": "8EEOnW_iVZXe",
        "outputId": "9a5c5304-f721-40bc-dc23-fdd606ef0e52",
        "colab": {
          "base_uri": "https://localhost:8080/"
        }
      },
      "execution_count": 13,
      "outputs": [
        {
          "output_type": "stream",
          "name": "stdout",
          "text": [
            "Eu, leonardo, pagarei daqui a 3 meses a quantia de 115 reais!\n"
          ]
        }
      ]
    },
    {
      "cell_type": "code",
      "source": [],
      "metadata": {
        "id": "k-pv4cXGVucq"
      },
      "execution_count": null,
      "outputs": []
    }
  ]
}