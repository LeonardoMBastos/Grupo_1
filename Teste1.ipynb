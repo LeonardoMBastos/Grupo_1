{
  "nbformat": 4,
  "nbformat_minor": 0,
  "metadata": {
    "colab": {
      "provenance": [],
      "authorship_tag": "ABX9TyPZOFEcIR8qXsd27E/Oc312",
      "include_colab_link": true
    },
    "kernelspec": {
      "name": "python3",
      "display_name": "Python 3"
    },
    "language_info": {
      "name": "python"
    }
  },
  "cells": [
    {
      "cell_type": "markdown",
      "metadata": {
        "id": "view-in-github",
        "colab_type": "text"
      },
      "source": [
        "<a href=\"https://colab.research.google.com/github/LeonardoMBastos/Grupo_1/blob/main/Teste1.ipynb\" target=\"_parent\"><img src=\"https://colab.research.google.com/assets/colab-badge.svg\" alt=\"Open In Colab\"/></a>"
      ]
    },
    {
      "cell_type": "code",
      "execution_count": null,
      "metadata": {
        "id": "YZD4K-KxFclV",
        "outputId": "5c41585c-ebcc-42d0-c1d6-34bd98dcacd7",
        "colab": {
          "base_uri": "https://localhost:8080/"
        }
      },
      "outputs": [
        {
          "output_type": "stream",
          "name": "stdout",
          "text": [
            "olá mundo\n"
          ]
        }
      ],
      "source": [
        "print('olá mundo')"
      ]
    },
    {
      "cell_type": "code",
      "source": [],
      "metadata": {
        "id": "1MDeAPq6FguU"
      },
      "execution_count": null,
      "outputs": []
    }
  ]
}